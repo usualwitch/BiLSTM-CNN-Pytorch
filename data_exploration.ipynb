{
 "cells": [
  {
   "cell_type": "markdown",
   "metadata": {},
   "source": [
    "# 数据基本情况"
   ]
  },
  {
   "cell_type": "code",
   "execution_count": 1,
   "metadata": {},
   "outputs": [],
   "source": [
    "import os\n",
    "from glob import iglob\n",
    "\n",
    "from models.TextCNN import Config\n",
    "from utils import build_dataset"
   ]
  },
  {
   "cell_type": "code",
   "execution_count": 2,
   "metadata": {},
   "outputs": [
    {
     "name": "stdout",
     "output_type": "stream",
     "text": [
      "Vocab size: 5668\n"
     ]
    }
   ],
   "source": [
    "config = Config(\n",
    "    data_dir='Data',\n",
    "    class_list=['aoyun', 'fangchan', 'shangye', 'yule'],\n",
    "    vocab_path='vocab-char.pkl'\n",
    ")\n",
    "\n",
    "vocab, train_data, dev_data, test_data = build_dataset(config)"
   ]
  },
  {
   "cell_type": "code",
   "execution_count": 3,
   "metadata": {},
   "outputs": [],
   "source": [
    "inv_vocab = {val: key for key, val in vocab.items()}"
   ]
  },
  {
   "cell_type": "code",
   "execution_count": 4,
   "metadata": {},
   "outputs": [
    {
     "data": {
      "text/plain": [
       "14400"
      ]
     },
     "execution_count": 4,
     "metadata": {},
     "output_type": "execute_result"
    }
   ],
   "source": [
    "len(train_data)"
   ]
  },
  {
   "cell_type": "code",
   "execution_count": 5,
   "metadata": {},
   "outputs": [
    {
     "data": {
      "text/plain": [
       "([5666,\n",
       "  5666,\n",
       "  5667,\n",
       "  5667,\n",
       "  5667,\n",
       "  5667,\n",
       "  5667,\n",
       "  5667,\n",
       "  5667,\n",
       "  5667,\n",
       "  5667,\n",
       "  5667,\n",
       "  5667,\n",
       "  5667,\n",
       "  5667,\n",
       "  5667,\n",
       "  5667,\n",
       "  5667,\n",
       "  5667,\n",
       "  5667,\n",
       "  5667,\n",
       "  5667,\n",
       "  5667,\n",
       "  5667,\n",
       "  5667,\n",
       "  5667,\n",
       "  5667,\n",
       "  5667,\n",
       "  5667,\n",
       "  5667,\n",
       "  5667,\n",
       "  5667],\n",
       " 2,\n",
       " 2)"
      ]
     },
     "execution_count": 5,
     "metadata": {},
     "output_type": "execute_result"
    }
   ],
   "source": [
    "train_data[0]"
   ]
  },
  {
   "cell_type": "code",
   "execution_count": 6,
   "metadata": {},
   "outputs": [
    {
     "data": {
      "text/plain": [
       "([5666,\n",
       "  5666,\n",
       "  5666,\n",
       "  5667,\n",
       "  5667,\n",
       "  5667,\n",
       "  5667,\n",
       "  5667,\n",
       "  5667,\n",
       "  5667,\n",
       "  5667,\n",
       "  5667,\n",
       "  5667,\n",
       "  5667,\n",
       "  5667,\n",
       "  5667,\n",
       "  5667,\n",
       "  5667,\n",
       "  5667,\n",
       "  5667,\n",
       "  5667,\n",
       "  5667,\n",
       "  5667,\n",
       "  5667,\n",
       "  5667,\n",
       "  5667,\n",
       "  5667,\n",
       "  5667,\n",
       "  5667,\n",
       "  5667,\n",
       "  5667,\n",
       "  5667],\n",
       " -1,\n",
       " 3)"
      ]
     },
     "execution_count": 6,
     "metadata": {},
     "output_type": "execute_result"
    }
   ],
   "source": [
    "test_data[0]"
   ]
  },
  {
   "cell_type": "code",
   "execution_count": 7,
   "metadata": {},
   "outputs": [
    {
     "data": {
      "text/plain": [
       "'<UNK>'"
      ]
     },
     "execution_count": 7,
     "metadata": {},
     "output_type": "execute_result"
    },
    {
     "data": {
      "text/plain": [
       "'<PAD>'"
      ]
     },
     "execution_count": 7,
     "metadata": {},
     "output_type": "execute_result"
    }
   ],
   "source": [
    "inv_vocab[5666]\n",
    "inv_vocab[5667]"
   ]
  },
  {
   "cell_type": "markdown",
   "metadata": {},
   "source": [
    "数据中有很多全由未知字词构成的条目，由于测试集中也有这类条目，不做额外处理。"
   ]
  },
  {
   "cell_type": "markdown",
   "metadata": {},
   "source": [
    "考虑 pad_size（统一文本长度）的选择，先计算平均值。"
   ]
  },
  {
   "cell_type": "code",
   "execution_count": 8,
   "metadata": {},
   "outputs": [
    {
     "data": {
      "text/plain": [
       "715.8268543811726"
      ]
     },
     "execution_count": 8,
     "metadata": {},
     "output_type": "execute_result"
    }
   ],
   "source": [
    "num_files = 0\n",
    "count = 0\n",
    "\n",
    "for file_path in iglob(os.path.join('Data', \"*\", \"*\", \"*\")):\n",
    "    with open(file_path, \"r\", encoding=\"UTF-8\") as f:\n",
    "        content = [e for e in f.readline() if e ]\n",
    "        num_files += 1\n",
    "        count += len(content)\n",
    "count / num_files"
   ]
  },
  {
   "cell_type": "markdown",
   "metadata": {},
   "source": [
    "平均值较大，但其中有很多无意义符号。\n",
    "\n",
    "基于字的模型截取前100个字。\n",
    "\n",
    "任务是文本主题分类，基于词的模型去除停用词，考虑前50个词。"
   ]
  }
 ],
 "metadata": {
  "kernelspec": {
   "display_name": "Python 3",
   "language": "python",
   "name": "python3"
  },
  "language_info": {
   "codemirror_mode": {
    "name": "ipython",
    "version": 3
   },
   "file_extension": ".py",
   "mimetype": "text/x-python",
   "name": "python",
   "nbconvert_exporter": "python",
   "pygments_lexer": "ipython3",
   "version": "3.8.3"
  }
 },
 "nbformat": 4,
 "nbformat_minor": 4
}
